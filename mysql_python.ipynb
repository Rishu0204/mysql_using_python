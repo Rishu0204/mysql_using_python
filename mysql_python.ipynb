{
 "cells": [
  {
   "cell_type": "code",
   "execution_count": 16,
   "metadata": {},
   "outputs": [],
   "source": [
    "#importing libaries\n",
    "\n",
    "import mysql.connector\n",
    "from mysql.connector import Error\n",
    "import pandas as pd "
   ]
  },
  {
   "cell_type": "code",
   "execution_count": 17,
   "metadata": {},
   "outputs": [
    {
     "name": "stdout",
     "output_type": "stream",
     "text": [
      "MYSQL CONNECTION SUCCESSFULL\n"
     ]
    }
   ],
   "source": [
    "#connection to server\n",
    "def create_server_connection(host_name,user_name,user_password):\n",
    "    connection= None\n",
    "    try:\n",
    "        connection= mysql.connector.connect(host=host_name,\n",
    "                                    user=user_name,\n",
    "                                    passwd=user_password)\n",
    "        print(\"MYSQL CONNECTION SUCCESSFULL\")\n",
    "    except Error as err:\n",
    "        print(f\"Error: {err}\")\n",
    "\n",
    "    return connection\n",
    "\n",
    "#put Your Mysql terminal password\n",
    "pw=input(\"Enter your MySql password: \")\n",
    "#database name\n",
    "\n",
    "\n",
    "connection =create_server_connection(\"127.0.0.1\",\"root\",pw)"
   ]
  },
  {
   "cell_type": "code",
   "execution_count": 18,
   "metadata": {},
   "outputs": [
    {
     "name": "stdout",
     "output_type": "stream",
     "text": [
      "DATABASE CREATED SUCCESSFULLY!!\n"
     ]
    }
   ],
   "source": [
    "# creating database \n",
    "def create_database(connection,query):\n",
    "    cursor=connection.cursor()\n",
    "    try:\n",
    "        cursor.execute(query)\n",
    "        print(\"DATABASE CREATED SUCCESSFULLY!!\")\n",
    "    except Error as err:\n",
    "        print(f\"Error: {err}\")\n",
    "\n",
    "db=input(\"Enter database name: \")\n",
    "query=(f\"create database {db}\")\n",
    "create_database(connection,query)"
   ]
  },
  {
   "cell_type": "code",
   "execution_count": 19,
   "metadata": {},
   "outputs": [],
   "source": [
    "#connecting to database\n",
    "def create_db_connection(host_name,user_name,user_password,db_name):\n",
    "    connection= None\n",
    "    try:\n",
    "        connection= mysql.connector.connect(host=host_name,\n",
    "                                    user=user_name,\n",
    "                                    passwd=user_password,\n",
    "                                    database=db_name)\n",
    "        print(\"MYSQL DATABASE CONNECTION SUCESSFULL\")\n",
    "    except Error as err:\n",
    "        print(f\"Error: {err}\")\n",
    "\n",
    "    return connection"
   ]
  },
  {
   "cell_type": "code",
   "execution_count": 20,
   "metadata": {},
   "outputs": [],
   "source": [
    "#execute queries\n",
    "def execute_query(connection,query):\n",
    "    cursor=connection.cursor()\n",
    "    try:\n",
    "        cursor.execute(query)\n",
    "        connection.commit()\n",
    "        print(\"Query EXECUTED successfully\")\n",
    "    except Error as err:\n",
    "        print(f\"Error: {err}\")"
   ]
  },
  {
   "cell_type": "code",
   "execution_count": 21,
   "metadata": {},
   "outputs": [
    {
     "name": "stdout",
     "output_type": "stream",
     "text": [
      "MYSQL DATABASE CONNECTION SUCESSFULL\n",
      "Query EXECUTED successfully\n"
     ]
    }
   ],
   "source": [
    "#creating table\n",
    "create_books_table=\"\"\"\n",
    "create table books(\n",
    "book_id int primary key,\n",
    "book_name varchar(50) not null,\n",
    "book_arrival date not null,\n",
    "quantity int,\n",
    "price float);\"\"\"\n",
    "\n",
    "#connect to the database\n",
    "connection= create_db_connection(\"127.0.0.1\",\"root\",pw,db)\n",
    "execute_query(connection,create_books_table)"
   ]
  },
  {
   "cell_type": "code",
   "execution_count": 22,
   "metadata": {},
   "outputs": [
    {
     "name": "stdout",
     "output_type": "stream",
     "text": [
      "MYSQL DATABASE CONNECTION SUCESSFULL\n",
      "Query EXECUTED successfully\n",
      "Record inserted successfully.\n",
      "MYSQL DATABASE CONNECTION SUCESSFULL\n",
      "Query EXECUTED successfully\n",
      "Record inserted successfully.\n"
     ]
    }
   ],
   "source": [
    "#inserting records\n",
    "\n",
    "while True:\n",
    "#     connection=create_db_connection(\"127.0.0.1\",\"root\",pw,db)\n",
    "    choice = input(\"Do you want to enter a book (y/n): \")\n",
    "    if choice.lower() == 'y':\n",
    "        try:\n",
    "            id = int(input(\"Enter book ID: \"))\n",
    "            b_name = input(\"Enter book name: \")\n",
    "            b_arrival_date = input(\"Enter book's arrival date (yyyy/mm/dd): \")\n",
    "            quant = int(input(\"Enter quantity: \"))\n",
    "            price = float(input(\"Enter price: \"))\n",
    "\n",
    "            insert_query = f\"INSERT INTO books VALUES ({id}, '{b_name}', '{b_arrival_date}', {quant}, {price});\"\n",
    "            connection=create_db_connection(\"127.0.0.1\",\"root\",pw,db)\n",
    "            if connection:\n",
    "                execute_query(connection, insert_query)\n",
    "                print(\"Record inserted successfully.\")\n",
    "            else:\n",
    "                print(\"No database connection.\")\n",
    " \n",
    "        except Exception as e:\n",
    "            print(f\"Error: {e}\")\n",
    "\n",
    "    elif choice.lower() == 'n':\n",
    "        break\n",
    "    else:\n",
    "        print(\"Invalid choice. Please enter 'y' or 'n'.\")\n"
   ]
  },
  {
   "cell_type": "code",
   "execution_count": 23,
   "metadata": {},
   "outputs": [],
   "source": [
    "#read table\n",
    "def read_query(connection,query):\n",
    "    cursor = connection.cursor()\n",
    "    result=None\n",
    "    try:\n",
    "        cursor.execute(query)\n",
    "        result=cursor.fetchall()\n",
    "        return result\n",
    "    except Error as err:\n",
    "        print(f\"Error: {err}\")\n",
    "        "
   ]
  },
  {
   "cell_type": "code",
   "execution_count": 24,
   "metadata": {},
   "outputs": [
    {
     "name": "stdout",
     "output_type": "stream",
     "text": [
      "MYSQL DATABASE CONNECTION SUCESSFULL\n",
      "(1, 'ramayan', datetime.date(2021, 10, 9), 10, 1000.0)\n",
      "(2, 'mahabharat', datetime.date(2021, 6, 10), 12, 1200.0)\n"
     ]
    }
   ],
   "source": [
    "# select query\n",
    "q1=\"\"\"select * from books;\"\"\"\n",
    "connection=create_db_connection(\"127.0.0.1\",\"root\",pw,db)\n",
    "results=read_query(connection,q1)\n",
    "for result in results:\n",
    "    print(result)"
   ]
  },
  {
   "cell_type": "code",
   "execution_count": 25,
   "metadata": {},
   "outputs": [
    {
     "name": "stdout",
     "output_type": "stream",
     "text": [
      "MYSQL DATABASE CONNECTION SUCESSFULL\n",
      "(1, 'ramayan')\n",
      "(2, 'mahabharat')\n"
     ]
    }
   ],
   "source": [
    "# select specifics from table query\n",
    "q2=\"\"\"select book_id,book_name from books;\"\"\"\n",
    "connection=create_db_connection(\"127.0.0.1\",\"root\",pw,db)\n",
    "results=read_query(connection,q2)\n",
    "for result in results:\n",
    "    print(result)\n"
   ]
  },
  {
   "cell_type": "code",
   "execution_count": 26,
   "metadata": {},
   "outputs": [
    {
     "name": "stdout",
     "output_type": "stream",
     "text": [
      "MYSQL DATABASE CONNECTION SUCESSFULL\n",
      "(2, 'mahabharat', datetime.date(2021, 6, 10), 12, 1200.0)\n",
      "(1, 'ramayan', datetime.date(2021, 10, 9), 10, 1000.0)\n"
     ]
    }
   ],
   "source": [
    "# order by query\n",
    "q3=\"\"\"select * from books order by price desc;\"\"\"\n",
    "connection=create_db_connection(\"127.0.0.1\",\"root\",pw,db)\n",
    "results=read_query(connection,q3)\n",
    "for result in results:\n",
    "    print(result)"
   ]
  },
  {
   "cell_type": "code",
   "execution_count": 28,
   "metadata": {},
   "outputs": [
    {
     "data": {
      "text/html": [
       "<div>\n",
       "<style scoped>\n",
       "    .dataframe tbody tr th:only-of-type {\n",
       "        vertical-align: middle;\n",
       "    }\n",
       "\n",
       "    .dataframe tbody tr th {\n",
       "        vertical-align: top;\n",
       "    }\n",
       "\n",
       "    .dataframe thead th {\n",
       "        text-align: right;\n",
       "    }\n",
       "</style>\n",
       "<table border=\"1\" class=\"dataframe\">\n",
       "  <thead>\n",
       "    <tr style=\"text-align: right;\">\n",
       "      <th></th>\n",
       "      <th>book_id</th>\n",
       "      <th>book_name</th>\n",
       "      <th>book_arrival</th>\n",
       "      <th>quantity</th>\n",
       "      <th>price</th>\n",
       "    </tr>\n",
       "  </thead>\n",
       "  <tbody>\n",
       "    <tr>\n",
       "      <th>0</th>\n",
       "      <td>2</td>\n",
       "      <td>mahabharat</td>\n",
       "      <td>2021-06-10</td>\n",
       "      <td>12</td>\n",
       "      <td>1200.0</td>\n",
       "    </tr>\n",
       "    <tr>\n",
       "      <th>1</th>\n",
       "      <td>1</td>\n",
       "      <td>ramayan</td>\n",
       "      <td>2021-10-09</td>\n",
       "      <td>10</td>\n",
       "      <td>1000.0</td>\n",
       "    </tr>\n",
       "  </tbody>\n",
       "</table>\n",
       "</div>"
      ],
      "text/plain": [
       "   book_id   book_name book_arrival  quantity   price\n",
       "0        2  mahabharat   2021-06-10        12  1200.0\n",
       "1        1     ramayan   2021-10-09        10  1000.0"
      ]
     },
     "metadata": {},
     "output_type": "display_data"
    }
   ],
   "source": [
    "# dataframs using pandas\n",
    "form_db=[]\n",
    "for result in results:\n",
    "    result=list(result)\n",
    "    form_db.append(result)\n",
    "columns=[\"book_id\",\"book_name\",\"book_arrival\",\"quantity\",\"price\"]\n",
    "df=pd.DataFrame(form_db,columns=columns)\n",
    "display(df)"
   ]
  },
  {
   "cell_type": "code",
   "execution_count": 31,
   "metadata": {},
   "outputs": [
    {
     "name": "stdout",
     "output_type": "stream",
     "text": [
      "MYSQL DATABASE CONNECTION SUCESSFULL\n",
      "Query EXECUTED successfully\n"
     ]
    }
   ],
   "source": [
    "#update\n",
    "update=\"\"\"update books set price=1000 where book_id=2;\"\"\" \n",
    "connection=create_db_connection(\"127.0.0.1\",\"root\",pw,db)\n",
    "execute_query(connection,update)\n",
    "\n"
   ]
  },
  {
   "cell_type": "code",
   "execution_count": 33,
   "metadata": {},
   "outputs": [
    {
     "name": "stdout",
     "output_type": "stream",
     "text": [
      "MYSQL DATABASE CONNECTION SUCESSFULL\n",
      "(2, 'mahabharat', datetime.date(2021, 6, 10), 12, 1000.0)\n"
     ]
    }
   ],
   "source": [
    "q5=\"\"\"select * from books where book_id=2;\"\"\"\n",
    "connection=create_db_connection(\"127.0.0.1\",\"root\",pw,db)\n",
    "results=read_query(connection,q5)\n",
    "for result in results:\n",
    "    print(result)"
   ]
  },
  {
   "cell_type": "code",
   "execution_count": null,
   "metadata": {},
   "outputs": [],
   "source": [
    "# delete databse query\n",
    "q4=\"\"\"drop database demo;\"\"\"\n",
    "connection=create_db_connection(\"127.0.0.1\",\"root\",pw,db)\n",
    "results=read_query(connection,q4)\n",
    "for result in results:\n",
    "    print(result)"
   ]
  }
 ],
 "metadata": {
  "kernelspec": {
   "display_name": "base",
   "language": "python",
   "name": "python3"
  },
  "language_info": {
   "codemirror_mode": {
    "name": "ipython",
    "version": 3
   },
   "file_extension": ".py",
   "mimetype": "text/x-python",
   "name": "python",
   "nbconvert_exporter": "python",
   "pygments_lexer": "ipython3",
   "version": "3.11.5"
  }
 },
 "nbformat": 4,
 "nbformat_minor": 2
}
